{
 "cells": [
  {
   "cell_type": "code",
   "execution_count": 2,
   "metadata": {},
   "outputs": [],
   "source": [
    "import pandas as pd \n",
    "import numpy as np\n",
    "from statistics import mean\n",
    "\n",
    "penticton_data = pd.read_csv('Penticton RS Jan1 2009-Feb 7-2020.csv')\n",
    "mccuddy_data = pd.read_csv('McCuddy Jan1 2009-Feb 7-2020.csv')\n",
    "ashnola_data = pd.read_csv('Ashnola Jan1 2009-Feb 7-2020.csv')\n",
    "\n",
    "dataframes = [penticton_data, mccuddy_data, ashnola_data]\n",
    "dropColumns=['temperature', 'relative_humidity', 'wind_direction', 'wind_speed', 'precipitation', 'status', 'temp_valid', 'rh_valid', 'wdir_valid', 'wspeed_valid', 'precip_valid', 'gc', 'danger_rating']\n",
    "\n",
    "for col in dropColumns:\n",
    "    penticton_data = penticton_data.drop(columns=[col])\n",
    "    mccuddy_data = mccuddy_data.drop(columns=[col])\n",
    "    ashnola_data = ashnola_data.drop(columns=[col])\n",
    "\n",
    "ffmc_percentiles = []\n",
    "bui_percentiles = []\n",
    "isi_percentiles = []"
   ]
  },
  {
   "cell_type": "code",
   "execution_count": 3,
   "metadata": {},
   "outputs": [],
   "source": [
    "# set desired calculation parameters\n",
    "# FEEL FREE TO CHANGE THESE PARAMETERS AS DESIRED\n",
    "\n",
    "# fire season start and end dates (month and day in numeric format) for location\n",
    "# May 1 - Sept 15 used for these stations\n",
    "FIRE_SEASON_START_MONTH = 5\n",
    "FIRE_SEASON_START_DATE = 1\n",
    "FIRE_SEASON_END_MONTH = 9\n",
    "FIRE_SEASON_END_DATE = 15\n",
    "\n",
    "# time range start and end years\n",
    "START_YEAR = 2009\n",
    "END_YEAR = 2019\n",
    "\n",
    "# percentile to report out (in decimal format)\n",
    "PERCENTILE = 0.9"
   ]
  },
  {
   "cell_type": "code",
   "execution_count": 4,
   "metadata": {},
   "outputs": [
    {
     "name": "stdout",
     "output_type": "stream",
     "text": [
      "\n",
      "\n",
      " *------ PERCENTILE FIRE WEATHER CALCULATOR -------*\n",
      "\n",
      "\n",
      "Percentile calculated: 90.0\n",
      "Fire season start month/date: 5/1\n",
      "Fire season end month/date: 9/15\n",
      "Years included in time range: 2009 - 2019\n"
     ]
    }
   ],
   "source": [
    "# print statements for output\n",
    "print('\\n\\n *------ PERCENTILE FIRE WEATHER CALCULATOR -------*\\n\\n')\n",
    "print('Percentile calculated: ' + str(PERCENTILE * 100))\n",
    "print('Fire season start month/date: ' + str(FIRE_SEASON_START_MONTH) + '/' + str(FIRE_SEASON_START_DATE))\n",
    "print('Fire season end month/date: ' + str(FIRE_SEASON_END_MONTH) + '/' + str(FIRE_SEASON_END_DATE))\n",
    "print('Years included in time range: ' + str(START_YEAR) + ' - ' + str(END_YEAR))"
   ]
  },
  {
   "cell_type": "code",
   "execution_count": 5,
   "metadata": {},
   "outputs": [
    {
     "name": "stdout",
     "output_type": "stream",
     "text": [
      "\n",
      "----- PENTICTON RS -------\n",
      "\n",
      "Values at 90.0th percentile:\n",
      "FFMC: 93.97835\n",
      "ISI: 11.180011\n",
      "BUI: 198.73809999999997\n",
      "\n",
      "--------------\n",
      "\n",
      "\n",
      "----- MCCUDDY -------\n",
      "\n",
      "Values at 90.0th percentile:\n",
      "FFMC: 94.707348\n",
      "ISI: 14.511330000000001\n",
      "BUI: 188.19975\n",
      "\n",
      "--------------\n",
      "\n",
      "\n",
      "----- ASHNOLA -------\n",
      "\n",
      "Values at 90.0th percentile:\n",
      "FFMC: 94.07827400000001\n",
      "ISI: 13.709858000000008\n",
      "BUI: 137.72865000000002\n",
      "\n",
      "--------------\n",
      "\n"
     ]
    }
   ],
   "source": [
    "for df in dataframes:\n",
    "    station_name = str(df['display_name'].iloc[0])\n",
    "\n",
    "    # sanity check - report if any indexes or code values are negative (they shouldn't be)\n",
    "    negative_values = df[['ffmc', 'bui', 'isi']] < 0\n",
    "\n",
    "    df['year'] = df['weather_date'].apply(lambda x: int(np.trunc(x/10000)))\n",
    "    df['month'] = df['weather_date'].apply(lambda x: int(np.trunc((x % 1000) / 100)))\n",
    "    df['day'] = df['weather_date'].apply(lambda x: int(np.trunc((x % 100))))\n",
    "    df = df.drop(columns=['weather_date'])\n",
    "\n",
    "    # remove data recorded before START_YEAR\n",
    "    indexNames = df[df['year'] < START_YEAR].index\n",
    "    df.drop(indexNames, inplace=True)\n",
    "    # remove data recorded after END_YEAR\n",
    "    indexNames = df[df['year'] > END_YEAR].index\n",
    "    df.drop(indexNames, inplace=True)\n",
    "\n",
    "    # remove data recorded outside of fire season\n",
    "    indexNames = df[df['month'] < FIRE_SEASON_START_MONTH].index\n",
    "    df.drop(indexNames, inplace=True)\n",
    "    indexNames = df[df['month'] > FIRE_SEASON_END_MONTH].index\n",
    "    df.drop(indexNames, inplace=True)\n",
    "    indexNames = df[(df['month'] == FIRE_SEASON_START_MONTH) & (df['day'] < FIRE_SEASON_START_DATE)].index\n",
    "    df.drop(indexNames, inplace=True)\n",
    "    indexNames = df[(df['month'] == FIRE_SEASON_END_MONTH) & (df['day'] > FIRE_SEASON_END_DATE)].index\n",
    "    df.drop(indexNames, inplace=True)\n",
    "\n",
    "\n",
    "    # calculate 90th percentile\n",
    "    calculated_percentile = df.quantile(PERCENTILE)\n",
    "    ffmc_percentiles.append(calculated_percentile['ffmc'])\n",
    "    isi_percentiles.append(calculated_percentile['isi'])\n",
    "    bui_percentiles.append(calculated_percentile['bui'])\n",
    "\n",
    "\n",
    "    print('\\n----- ' + station_name + ' -------\\n')\n",
    "    if (negative_values[negative_values==True].count().sum() > 0):\n",
    "        print('Number of invalid values found: ' + str(negative_values[negative_values==True].count().sum()))\n",
    "    print('Values at ' + str(PERCENTILE * 100) + 'th percentile:')\n",
    "    print('FFMC: ' + str(calculated_percentile['ffmc']))\n",
    "    print('ISI: ' + str(calculated_percentile['isi']))\n",
    "    print('BUI: ' + str(calculated_percentile['bui']))\n",
    "    print('\\n--------------\\n')"
   ]
  },
  {
   "cell_type": "code",
   "execution_count": 6,
   "metadata": {},
   "outputs": [
    {
     "name": "stdout",
     "output_type": "stream",
     "text": [
      "Mean FFMC: 94.25465733333334\n",
      "Mean ISI: 13.133733000000003\n",
      "Mean BUI: 174.88883333333334\n",
      "\n",
      "\n",
      "\n"
     ]
    }
   ],
   "source": [
    "# report mean values for each of FFMC, BUI, & ISI\n",
    "print('Mean FFMC: ' + str(mean(ffmc_percentiles)))\n",
    "print('Mean ISI: ' + str(mean(isi_percentiles)))\n",
    "print('Mean BUI: ' + str(mean(bui_percentiles)))\n",
    "print('\\n\\n')"
   ]
  },
  {
   "cell_type": "code",
   "execution_count": null,
   "metadata": {},
   "outputs": [],
   "source": []
  }
 ],
 "metadata": {
  "kernelspec": {
   "display_name": "Python 3",
   "language": "python",
   "name": "python3"
  },
  "language_info": {
   "codemirror_mode": {
    "name": "ipython",
    "version": 3
   },
   "file_extension": ".py",
   "mimetype": "text/x-python",
   "name": "python",
   "nbconvert_exporter": "python",
   "pygments_lexer": "ipython3",
   "version": "3.7.4"
  }
 },
 "nbformat": 4,
 "nbformat_minor": 2
}
